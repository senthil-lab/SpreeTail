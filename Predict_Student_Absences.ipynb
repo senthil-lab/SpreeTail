{
 "cells": [
  {
   "cell_type": "code",
   "execution_count": 14,
   "metadata": {},
   "outputs": [],
   "source": [
    "# importing required libraries\n",
    "import numpy as np\n",
    "import pandas as pd\n",
    "\n",
    "import matplotlib.pyplot as plt\n",
    "import seaborn as sns\n",
    "\n",
    "from scipy import stats\n",
    "from scipy.special import boxcox1p\n",
    "\n",
    "from sklearn.compose import ColumnTransformer\n",
    "from pandas_profiling import ProfileReport\n",
    "from sklearn.preprocessing import StandardScaler\n",
    "\n",
    "from sklearn.model_selection import train_test_split\n",
    "\n",
    "from sklearn.linear_model import ElasticNet\n",
    "from sklearn.ensemble import RandomForestRegressor\n",
    "from sklearn.pipeline import Pipeline\n",
    "from sklearn.model_selection import GridSearchCV\n",
    "from sklearn import metrics\n",
    "from xgboost import XGBRegressor"
   ]
  },
  {
   "cell_type": "code",
   "execution_count": 5,
   "metadata": {},
   "outputs": [],
   "source": [
    "# loading data from source CSV files\n",
    "stu_por = pd.read_csv('student-por.csv', sep=';')\n",
    "stu_mat = pd.read_csv('student-mat.csv', sep=';')"
   ]
  },
  {
   "cell_type": "code",
   "execution_count": 6,
   "metadata": {},
   "outputs": [],
   "source": [
    "pd.pandas.set_option('display.max_columns', None)"
   ]
  },
  {
   "cell_type": "code",
   "execution_count": 7,
   "metadata": {},
   "outputs": [],
   "source": [
    "# merging data from both the files\n",
    "stu=pd.concat([stu_por,stu_mat])"
   ]
  },
  {
   "cell_type": "code",
   "execution_count": 8,
   "metadata": {},
   "outputs": [
    {
     "data": {
      "text/html": [
       "<div>\n",
       "<style scoped>\n",
       "    .dataframe tbody tr th:only-of-type {\n",
       "        vertical-align: middle;\n",
       "    }\n",
       "\n",
       "    .dataframe tbody tr th {\n",
       "        vertical-align: top;\n",
       "    }\n",
       "\n",
       "    .dataframe thead th {\n",
       "        text-align: right;\n",
       "    }\n",
       "</style>\n",
       "<table border=\"1\" class=\"dataframe\">\n",
       "  <thead>\n",
       "    <tr style=\"text-align: right;\">\n",
       "      <th></th>\n",
       "      <th>age</th>\n",
       "      <th>Medu</th>\n",
       "      <th>Fedu</th>\n",
       "      <th>traveltime</th>\n",
       "      <th>studytime</th>\n",
       "      <th>failures</th>\n",
       "      <th>famrel</th>\n",
       "      <th>freetime</th>\n",
       "      <th>goout</th>\n",
       "      <th>Dalc</th>\n",
       "      <th>Walc</th>\n",
       "      <th>health</th>\n",
       "      <th>absences</th>\n",
       "      <th>G1</th>\n",
       "      <th>G2</th>\n",
       "      <th>G3</th>\n",
       "    </tr>\n",
       "  </thead>\n",
       "  <tbody>\n",
       "    <tr>\n",
       "      <th>count</th>\n",
       "      <td>1044.000000</td>\n",
       "      <td>1044.000000</td>\n",
       "      <td>1044.000000</td>\n",
       "      <td>1044.000000</td>\n",
       "      <td>1044.000000</td>\n",
       "      <td>1044.000000</td>\n",
       "      <td>1044.000000</td>\n",
       "      <td>1044.000000</td>\n",
       "      <td>1044.000000</td>\n",
       "      <td>1044.000000</td>\n",
       "      <td>1044.000000</td>\n",
       "      <td>1044.000000</td>\n",
       "      <td>1044.000000</td>\n",
       "      <td>1044.000000</td>\n",
       "      <td>1044.000000</td>\n",
       "      <td>1044.000000</td>\n",
       "    </tr>\n",
       "    <tr>\n",
       "      <th>mean</th>\n",
       "      <td>16.726054</td>\n",
       "      <td>2.603448</td>\n",
       "      <td>2.387931</td>\n",
       "      <td>1.522989</td>\n",
       "      <td>1.970307</td>\n",
       "      <td>0.264368</td>\n",
       "      <td>3.935824</td>\n",
       "      <td>3.201149</td>\n",
       "      <td>3.156130</td>\n",
       "      <td>1.494253</td>\n",
       "      <td>2.284483</td>\n",
       "      <td>3.543103</td>\n",
       "      <td>4.434866</td>\n",
       "      <td>11.213602</td>\n",
       "      <td>11.246169</td>\n",
       "      <td>11.341954</td>\n",
       "    </tr>\n",
       "    <tr>\n",
       "      <th>std</th>\n",
       "      <td>1.239975</td>\n",
       "      <td>1.124907</td>\n",
       "      <td>1.099938</td>\n",
       "      <td>0.731727</td>\n",
       "      <td>0.834353</td>\n",
       "      <td>0.656142</td>\n",
       "      <td>0.933401</td>\n",
       "      <td>1.031507</td>\n",
       "      <td>1.152575</td>\n",
       "      <td>0.911714</td>\n",
       "      <td>1.285105</td>\n",
       "      <td>1.424703</td>\n",
       "      <td>6.210017</td>\n",
       "      <td>2.983394</td>\n",
       "      <td>3.285071</td>\n",
       "      <td>3.864796</td>\n",
       "    </tr>\n",
       "    <tr>\n",
       "      <th>min</th>\n",
       "      <td>15.000000</td>\n",
       "      <td>0.000000</td>\n",
       "      <td>0.000000</td>\n",
       "      <td>1.000000</td>\n",
       "      <td>1.000000</td>\n",
       "      <td>0.000000</td>\n",
       "      <td>1.000000</td>\n",
       "      <td>1.000000</td>\n",
       "      <td>1.000000</td>\n",
       "      <td>1.000000</td>\n",
       "      <td>1.000000</td>\n",
       "      <td>1.000000</td>\n",
       "      <td>0.000000</td>\n",
       "      <td>0.000000</td>\n",
       "      <td>0.000000</td>\n",
       "      <td>0.000000</td>\n",
       "    </tr>\n",
       "    <tr>\n",
       "      <th>25%</th>\n",
       "      <td>16.000000</td>\n",
       "      <td>2.000000</td>\n",
       "      <td>1.000000</td>\n",
       "      <td>1.000000</td>\n",
       "      <td>1.000000</td>\n",
       "      <td>0.000000</td>\n",
       "      <td>4.000000</td>\n",
       "      <td>3.000000</td>\n",
       "      <td>2.000000</td>\n",
       "      <td>1.000000</td>\n",
       "      <td>1.000000</td>\n",
       "      <td>3.000000</td>\n",
       "      <td>0.000000</td>\n",
       "      <td>9.000000</td>\n",
       "      <td>9.000000</td>\n",
       "      <td>10.000000</td>\n",
       "    </tr>\n",
       "    <tr>\n",
       "      <th>50%</th>\n",
       "      <td>17.000000</td>\n",
       "      <td>3.000000</td>\n",
       "      <td>2.000000</td>\n",
       "      <td>1.000000</td>\n",
       "      <td>2.000000</td>\n",
       "      <td>0.000000</td>\n",
       "      <td>4.000000</td>\n",
       "      <td>3.000000</td>\n",
       "      <td>3.000000</td>\n",
       "      <td>1.000000</td>\n",
       "      <td>2.000000</td>\n",
       "      <td>4.000000</td>\n",
       "      <td>2.000000</td>\n",
       "      <td>11.000000</td>\n",
       "      <td>11.000000</td>\n",
       "      <td>11.000000</td>\n",
       "    </tr>\n",
       "    <tr>\n",
       "      <th>75%</th>\n",
       "      <td>18.000000</td>\n",
       "      <td>4.000000</td>\n",
       "      <td>3.000000</td>\n",
       "      <td>2.000000</td>\n",
       "      <td>2.000000</td>\n",
       "      <td>0.000000</td>\n",
       "      <td>5.000000</td>\n",
       "      <td>4.000000</td>\n",
       "      <td>4.000000</td>\n",
       "      <td>2.000000</td>\n",
       "      <td>3.000000</td>\n",
       "      <td>5.000000</td>\n",
       "      <td>6.000000</td>\n",
       "      <td>13.000000</td>\n",
       "      <td>13.000000</td>\n",
       "      <td>14.000000</td>\n",
       "    </tr>\n",
       "    <tr>\n",
       "      <th>max</th>\n",
       "      <td>22.000000</td>\n",
       "      <td>4.000000</td>\n",
       "      <td>4.000000</td>\n",
       "      <td>4.000000</td>\n",
       "      <td>4.000000</td>\n",
       "      <td>3.000000</td>\n",
       "      <td>5.000000</td>\n",
       "      <td>5.000000</td>\n",
       "      <td>5.000000</td>\n",
       "      <td>5.000000</td>\n",
       "      <td>5.000000</td>\n",
       "      <td>5.000000</td>\n",
       "      <td>75.000000</td>\n",
       "      <td>19.000000</td>\n",
       "      <td>19.000000</td>\n",
       "      <td>20.000000</td>\n",
       "    </tr>\n",
       "  </tbody>\n",
       "</table>\n",
       "</div>"
      ],
      "text/plain": [
       "               age         Medu         Fedu   traveltime    studytime  \\\n",
       "count  1044.000000  1044.000000  1044.000000  1044.000000  1044.000000   \n",
       "mean     16.726054     2.603448     2.387931     1.522989     1.970307   \n",
       "std       1.239975     1.124907     1.099938     0.731727     0.834353   \n",
       "min      15.000000     0.000000     0.000000     1.000000     1.000000   \n",
       "25%      16.000000     2.000000     1.000000     1.000000     1.000000   \n",
       "50%      17.000000     3.000000     2.000000     1.000000     2.000000   \n",
       "75%      18.000000     4.000000     3.000000     2.000000     2.000000   \n",
       "max      22.000000     4.000000     4.000000     4.000000     4.000000   \n",
       "\n",
       "          failures       famrel     freetime        goout         Dalc  \\\n",
       "count  1044.000000  1044.000000  1044.000000  1044.000000  1044.000000   \n",
       "mean      0.264368     3.935824     3.201149     3.156130     1.494253   \n",
       "std       0.656142     0.933401     1.031507     1.152575     0.911714   \n",
       "min       0.000000     1.000000     1.000000     1.000000     1.000000   \n",
       "25%       0.000000     4.000000     3.000000     2.000000     1.000000   \n",
       "50%       0.000000     4.000000     3.000000     3.000000     1.000000   \n",
       "75%       0.000000     5.000000     4.000000     4.000000     2.000000   \n",
       "max       3.000000     5.000000     5.000000     5.000000     5.000000   \n",
       "\n",
       "              Walc       health     absences           G1           G2  \\\n",
       "count  1044.000000  1044.000000  1044.000000  1044.000000  1044.000000   \n",
       "mean      2.284483     3.543103     4.434866    11.213602    11.246169   \n",
       "std       1.285105     1.424703     6.210017     2.983394     3.285071   \n",
       "min       1.000000     1.000000     0.000000     0.000000     0.000000   \n",
       "25%       1.000000     3.000000     0.000000     9.000000     9.000000   \n",
       "50%       2.000000     4.000000     2.000000    11.000000    11.000000   \n",
       "75%       3.000000     5.000000     6.000000    13.000000    13.000000   \n",
       "max       5.000000     5.000000    75.000000    19.000000    19.000000   \n",
       "\n",
       "                G3  \n",
       "count  1044.000000  \n",
       "mean     11.341954  \n",
       "std       3.864796  \n",
       "min       0.000000  \n",
       "25%      10.000000  \n",
       "50%      11.000000  \n",
       "75%      14.000000  \n",
       "max      20.000000  "
      ]
     },
     "execution_count": 8,
     "metadata": {},
     "output_type": "execute_result"
    }
   ],
   "source": [
    "stu.describe()"
   ]
  },
  {
   "cell_type": "markdown",
   "metadata": {},
   "source": [
    "## Looking at each variable and try to understand their meaning and relevance to this problem"
   ]
  },
  {
   "cell_type": "markdown",
   "metadata": {},
   "source": [
    "### Analysing 'absences'"
   ]
  },
  {
   "cell_type": "code",
   "execution_count": 9,
   "metadata": {},
   "outputs": [
    {
     "data": {
      "text/plain": [
       "count    1044.000000\n",
       "mean        4.434866\n",
       "std         6.210017\n",
       "min         0.000000\n",
       "25%         0.000000\n",
       "50%         2.000000\n",
       "75%         6.000000\n",
       "max        75.000000\n",
       "Name: absences, dtype: float64"
      ]
     },
     "execution_count": 9,
     "metadata": {},
     "output_type": "execute_result"
    }
   ],
   "source": [
    "stu['absences'].describe()"
   ]
  },
  {
   "cell_type": "code",
   "execution_count": 10,
   "metadata": {},
   "outputs": [
    {
     "data": {
      "text/plain": [
       "<seaborn.axisgrid.FacetGrid at 0x18d4f1f7c88>"
      ]
     },
     "execution_count": 10,
     "metadata": {},
     "output_type": "execute_result"
    },
    {
     "data": {
      "image/png": "[encoded data removed]",
      "text/plain": [
       "<Figure size 360x360 with 1 Axes>"
      ]
     },
     "metadata": {
      "needs_background": "light"
     },
     "output_type": "display_data"
    }
   ],
   "source": [
    "sns.displot(stu['absences'])"
   ]
  },
  {
   "cell_type": "markdown",
   "metadata": {},
   "source": [
    "### Observation:\n",
    "* Not normally distribution.\n",
    "* Have positive skewness.\n",
    "* Show peakedness."
   ]
  },
  {
   "cell_type": "code",
   "execution_count": 11,
   "metadata": {},
   "outputs": [
    {
     "name": "stdout",
     "output_type": "stream",
     "text": [
      "Skewness: 3.741347\n",
      "Kurtosis: 26.596200\n"
     ]
    }
   ],
   "source": [
    "print(\"Skewness: %f\" % stu['absences'].skew())\n",
    "print(\"Kurtosis: %f\" % stu['absences'].kurt())"
   ]
  },
  {
   "cell_type": "markdown",
   "metadata": {},
   "source": [
    "## Hypothesis Testing\n",
    "p value <= 0.05\n",
    "\n",
    "One Categorical Feature - sex:\n",
    "H0 - There is no difference in the proportion of male and female\n",
    "H1 - There is a difference in the proportion of male and female\n",
    "Test - One Sample Proportion Test\n",
    "\n",
    "Two Categorical Feature - sex based on Age\n",
    "Test: Chi Square Test\n",
    "\n",
    "One Numeric feature - absences\n",
    "Test: T - Test\n",
    "\n",
    "Two Numeric feature - absences\n",
    "Test: Correlation\n",
    "\n",
    "One Numerical variable and One catagorical variable - \n",
    "Anova Test"
   ]
  },
  {
   "cell_type": "markdown",
   "metadata": {},
   "source": [
    "### T-Test"
   ]
  },
  {
   "cell_type": "markdown",
   "metadata": {},
   "source": [
    "## Feature Engineering"
   ]
  },
  {
   "cell_type": "markdown",
   "metadata": {},
   "source": [
    "## Missing data\n"
   ]
  },
  {
   "cell_type": "code",
   "execution_count": 12,
   "metadata": {},
   "outputs": [
    {
     "data": {
      "text/html": [
       "<div>\n",
       "<style scoped>\n",
       "    .dataframe tbody tr th:only-of-type {\n",
       "        vertical-align: middle;\n",
       "    }\n",
       "\n",
       "    .dataframe tbody tr th {\n",
       "        vertical-align: top;\n",
       "    }\n",
       "\n",
       "    .dataframe thead th {\n",
       "        text-align: right;\n",
       "    }\n",
       "</style>\n",
       "<table border=\"1\" class=\"dataframe\">\n",
       "  <thead>\n",
       "    <tr style=\"text-align: right;\">\n",
       "      <th></th>\n",
       "      <th>Total</th>\n",
       "      <th>Percent</th>\n",
       "    </tr>\n",
       "  </thead>\n",
       "  <tbody>\n",
       "    <tr>\n",
       "      <th>school</th>\n",
       "      <td>0</td>\n",
       "      <td>0.0</td>\n",
       "    </tr>\n",
       "    <tr>\n",
       "      <th>paid</th>\n",
       "      <td>0</td>\n",
       "      <td>0.0</td>\n",
       "    </tr>\n",
       "    <tr>\n",
       "      <th>G2</th>\n",
       "      <td>0</td>\n",
       "      <td>0.0</td>\n",
       "    </tr>\n",
       "    <tr>\n",
       "      <th>G1</th>\n",
       "      <td>0</td>\n",
       "      <td>0.0</td>\n",
       "    </tr>\n",
       "    <tr>\n",
       "      <th>absences</th>\n",
       "      <td>0</td>\n",
       "      <td>0.0</td>\n",
       "    </tr>\n",
       "    <tr>\n",
       "      <th>health</th>\n",
       "      <td>0</td>\n",
       "      <td>0.0</td>\n",
       "    </tr>\n",
       "    <tr>\n",
       "      <th>Walc</th>\n",
       "      <td>0</td>\n",
       "      <td>0.0</td>\n",
       "    </tr>\n",
       "    <tr>\n",
       "      <th>Dalc</th>\n",
       "      <td>0</td>\n",
       "      <td>0.0</td>\n",
       "    </tr>\n",
       "    <tr>\n",
       "      <th>goout</th>\n",
       "      <td>0</td>\n",
       "      <td>0.0</td>\n",
       "    </tr>\n",
       "    <tr>\n",
       "      <th>freetime</th>\n",
       "      <td>0</td>\n",
       "      <td>0.0</td>\n",
       "    </tr>\n",
       "    <tr>\n",
       "      <th>famrel</th>\n",
       "      <td>0</td>\n",
       "      <td>0.0</td>\n",
       "    </tr>\n",
       "    <tr>\n",
       "      <th>romantic</th>\n",
       "      <td>0</td>\n",
       "      <td>0.0</td>\n",
       "    </tr>\n",
       "    <tr>\n",
       "      <th>internet</th>\n",
       "      <td>0</td>\n",
       "      <td>0.0</td>\n",
       "    </tr>\n",
       "    <tr>\n",
       "      <th>higher</th>\n",
       "      <td>0</td>\n",
       "      <td>0.0</td>\n",
       "    </tr>\n",
       "    <tr>\n",
       "      <th>nursery</th>\n",
       "      <td>0</td>\n",
       "      <td>0.0</td>\n",
       "    </tr>\n",
       "    <tr>\n",
       "      <th>activities</th>\n",
       "      <td>0</td>\n",
       "      <td>0.0</td>\n",
       "    </tr>\n",
       "    <tr>\n",
       "      <th>famsup</th>\n",
       "      <td>0</td>\n",
       "      <td>0.0</td>\n",
       "    </tr>\n",
       "    <tr>\n",
       "      <th>sex</th>\n",
       "      <td>0</td>\n",
       "      <td>0.0</td>\n",
       "    </tr>\n",
       "    <tr>\n",
       "      <th>schoolsup</th>\n",
       "      <td>0</td>\n",
       "      <td>0.0</td>\n",
       "    </tr>\n",
       "    <tr>\n",
       "      <th>failures</th>\n",
       "      <td>0</td>\n",
       "      <td>0.0</td>\n",
       "    </tr>\n",
       "  </tbody>\n",
       "</table>\n",
       "</div>"
      ],
      "text/plain": [
       "            Total  Percent\n",
       "school          0      0.0\n",
       "paid            0      0.0\n",
       "G2              0      0.0\n",
       "G1              0      0.0\n",
       "absences        0      0.0\n",
       "health          0      0.0\n",
       "Walc            0      0.0\n",
       "Dalc            0      0.0\n",
       "goout           0      0.0\n",
       "freetime        0      0.0\n",
       "famrel          0      0.0\n",
       "romantic        0      0.0\n",
       "internet        0      0.0\n",
       "higher          0      0.0\n",
       "nursery         0      0.0\n",
       "activities      0      0.0\n",
       "famsup          0      0.0\n",
       "sex             0      0.0\n",
       "schoolsup       0      0.0\n",
       "failures        0      0.0"
      ]
     },
     "execution_count": 12,
     "metadata": {},
     "output_type": "execute_result"
    }
   ],
   "source": [
    "#missing data\n",
    "total = stu.isnull().sum().sort_values(ascending=False)\n",
    "percent = (stu.isnull().sum()/stu.isnull().count()).sort_values(ascending=False)\n",
    "missing_data = pd.concat([total, percent], axis=1, keys=['Total', 'Percent'])\n",
    "missing_data.head(20)"
   ]
  },
  {
   "cell_type": "markdown",
   "metadata": {},
   "source": [
    "### Observation:\n",
    "* Data is good from missing values stand point.\n",
    "* All observations have values for all features.\n",
    "* No imputation required."
   ]
  },
  {
   "cell_type": "markdown",
   "metadata": {},
   "source": [
    "### Univariate analysis"
   ]
  },
  {
   "cell_type": "code",
   "execution_count": 15,
   "metadata": {},
   "outputs": [
    {
     "name": "stdout",
     "output_type": "stream",
     "text": [
      "outer range (low) of the distribution:\n",
      "[[-0.71448946]\n",
      " [-0.71448946]\n",
      " [-0.71448946]\n",
      " [-0.71448946]\n",
      " [-0.71448946]\n",
      " [-0.71448946]\n",
      " [-0.71448946]\n",
      " [-0.71448946]\n",
      " [-0.71448946]\n",
      " [-0.71448946]\n",
      " [-0.71448946]\n",
      " [-0.71448946]\n",
      " [-0.71448946]\n",
      " [-0.71448946]\n",
      " [-0.71448946]\n",
      " [-0.71448946]\n",
      " [-0.71448946]\n",
      " [-0.71448946]\n",
      " [-0.71448946]\n",
      " [-0.71448946]\n",
      " [-0.71448946]\n",
      " [-0.71448946]\n",
      " [-0.71448946]\n",
      " [-0.71448946]\n",
      " [-0.71448946]\n",
      " [-0.71448946]\n",
      " [-0.71448946]\n",
      " [-0.71448946]\n",
      " [-0.71448946]\n",
      " [-0.71448946]]\n",
      "\n",
      "outer range (high) of the distribution:\n",
      "[[ 2.18544272]\n",
      " [ 2.18544272]\n",
      " [ 2.34655006]\n",
      " [ 2.50765741]\n",
      " [ 2.50765741]\n",
      " [ 2.50765741]\n",
      " [ 2.50765741]\n",
      " [ 2.66876475]\n",
      " [ 2.66876475]\n",
      " [ 2.66876475]\n",
      " [ 2.82987209]\n",
      " [ 2.82987209]\n",
      " [ 2.82987209]\n",
      " [ 2.82987209]\n",
      " [ 2.82987209]\n",
      " [ 2.99097944]\n",
      " [ 3.15208678]\n",
      " [ 3.15208678]\n",
      " [ 3.31319412]\n",
      " [ 3.47430147]\n",
      " [ 3.47430147]\n",
      " [ 3.79651615]\n",
      " [ 4.11873084]\n",
      " [ 4.11873084]\n",
      " [ 4.44094553]\n",
      " [ 5.40758959]\n",
      " [ 5.72980427]\n",
      " [ 7.98530708]\n",
      " [ 8.30752177]\n",
      " [11.3685613 ]]\n"
     ]
    },
    {
     "name": "stderr",
     "output_type": "stream",
     "text": [
      "C:\\Users\\snara016\\AppData\\Local\\Continuum\\anaconda3\\lib\\site-packages\\ipykernel_launcher.py:3: FutureWarning: Support for multi-dimensional indexing (e.g. `obj[:, None]`) is deprecated and will be removed in a future version.  Convert to a numpy array before indexing instead.\n",
      "  This is separate from the ipykernel package so we can avoid doing imports until\n"
     ]
    }
   ],
   "source": [
    "# standardizing data \n",
    "# mean of 0 and a standard deviation of 1.\n",
    "absences_scaled = StandardScaler().fit_transform(stu['absences'][:,np.newaxis]);\n",
    "low_range = absences_scaled[absences_scaled[:,0].argsort()][:30]\n",
    "high_range= absences_scaled[absences_scaled[:,0].argsort()][-30:]\n",
    "print('outer range (low) of the distribution:')\n",
    "print(low_range)\n",
    "print('\\nouter range (high) of the distribution:')\n",
    "print(high_range)"
   ]
  },
  {
   "cell_type": "markdown",
   "metadata": {},
   "source": [
    "### Observation:\n",
    "Low range values are similar and not too far from 0. High range values are far from 0 and the values above 2.something values are really out of range. We will take care of those outliers below"
   ]
  },
  {
   "cell_type": "markdown",
   "metadata": {},
   "source": [
    "## Outliers"
   ]
  },
  {
   "cell_type": "code",
   "execution_count": 16,
   "metadata": {},
   "outputs": [],
   "source": [
    "# dropping the records that have absences that are more than 18 because of less frequency\n",
    "stu = stu.drop(stu[stu['absences']>18].index)"
   ]
  },
  {
   "cell_type": "markdown",
   "metadata": {},
   "source": [
    "## Understading pattern in proportion of the absences with respect to other features"
   ]
  },
  {
   "cell_type": "code",
   "execution_count": 17,
   "metadata": {},
   "outputs": [],
   "source": [
    "stu['abs_yes'] = stu['absences'] > 0"
   ]
  },
  {
   "cell_type": "code",
   "execution_count": 18,
   "metadata": {
    "scrolled": false
   },
   "outputs": [
    {
     "name": "stdout",
     "output_type": "stream",
     "text": [
      "         abs_yes     \n",
      "            mean  sum\n",
      "school               \n",
      "GP      0.669456  480\n",
      "MS      0.580882  158\n",
      "      abs_yes     \n",
      "         mean  sum\n",
      "sex               \n",
      "F    0.640934  357\n",
      "M    0.650463  281\n",
      "      abs_yes     \n",
      "         mean  sum\n",
      "age               \n",
      "15   0.605263  115\n",
      "16   0.639405  172\n",
      "17   0.647287  167\n",
      "18   0.679426  142\n",
      "19   0.640000   32\n",
      "20   0.777778    7\n",
      "21   0.500000    1\n",
      "22   1.000000    2\n",
      "          abs_yes     \n",
      "             mean  sum\n",
      "address               \n",
      "R        0.648551  179\n",
      "U        0.643759  459\n",
      "          abs_yes     \n",
      "             mean  sum\n",
      "famsize               \n",
      "GT3      0.647564  452\n",
      "LE3      0.639175  186\n",
      "          abs_yes     \n",
      "             mean  sum\n",
      "Pstatus               \n",
      "A        0.684211   78\n",
      "T        0.640000  560\n",
      "       abs_yes     \n",
      "          mean  sum\n",
      "Medu               \n",
      "0     0.250000    2\n",
      "1     0.642487  124\n",
      "2     0.647273  178\n",
      "3     0.677273  149\n",
      "4     0.631399  185\n",
      "       abs_yes     \n",
      "          mean  sum\n",
      "Fedu               \n",
      "0     0.555556    5\n",
      "1     0.652893  158\n",
      "2     0.626623  193\n",
      "3     0.654206  140\n",
      "4     0.657407  142\n",
      "           abs_yes     \n",
      "              mean  sum\n",
      "Mjob                   \n",
      "at_home   0.648936  122\n",
      "health    0.612500   49\n",
      "other     0.628726  232\n",
      "services  0.682819  155\n",
      "teacher   0.640000   80\n",
      "           abs_yes     \n",
      "              mean  sum\n",
      "Fjob                   \n",
      "at_home   0.672131   41\n",
      "health    0.763158   29\n",
      "other     0.667877  368\n",
      "services  0.583333  161\n",
      "teacher   0.619048   39\n",
      "             abs_yes     \n",
      "                mean  sum\n",
      "reason                   \n",
      "course      0.632212  263\n",
      "home        0.655172  152\n",
      "other       0.647619   68\n",
      "reputation  0.656780  155\n",
      "           abs_yes     \n",
      "              mean  sum\n",
      "guardian               \n",
      "father    0.576271  136\n",
      "mother    0.661337  455\n",
      "other     0.723077   47\n",
      "             abs_yes     \n",
      "                mean  sum\n",
      "traveltime               \n",
      "1           0.644558  379\n",
      "2           0.622951  190\n",
      "3           0.750000   54\n",
      "4           0.625000   15\n",
      "            abs_yes     \n",
      "               mean  sum\n",
      "studytime               \n",
      "1          0.674419  203\n",
      "2          0.639659  300\n",
      "3          0.594937   94\n",
      "4          0.672131   41\n",
      "           abs_yes     \n",
      "              mean  sum\n",
      "failures               \n",
      "0         0.639563  527\n",
      "1         0.679245   72\n",
      "2         0.645161   20\n",
      "3         0.678571   19\n",
      "            abs_yes     \n",
      "               mean  sum\n",
      "schoolsup               \n",
      "no         0.643101  564\n",
      "yes        0.660714   74\n",
      "         abs_yes     \n",
      "            mean  sum\n",
      "famsup               \n",
      "no      0.620155  240\n",
      "yes     0.661130  398\n",
      "       abs_yes     \n",
      "          mean  sum\n",
      "paid               \n",
      "no    0.624204  490\n",
      "yes   0.725490  148\n",
      "             abs_yes     \n",
      "                mean  sum\n",
      "activities               \n",
      "no          0.612903  304\n",
      "yes         0.677485  334\n",
      "          abs_yes     \n",
      "             mean  sum\n",
      "nursery               \n",
      "no       0.715000  143\n",
      "yes      0.627376  495\n",
      "         abs_yes     \n",
      "            mean  sum\n",
      "higher               \n",
      "no      0.638554   53\n",
      "yes     0.645695  585\n",
      "           abs_yes     \n",
      "              mean  sum\n",
      "internet               \n",
      "no        0.641509  136\n",
      "yes       0.646075  502\n",
      "           abs_yes     \n",
      "              mean  sum\n",
      "romantic               \n",
      "no        0.648062  418\n",
      "yes       0.639535  220\n",
      "         abs_yes     \n",
      "            mean  sum\n",
      "famrel               \n",
      "1       0.678571   19\n",
      "2       0.800000   36\n",
      "3       0.704403  112\n",
      "4       0.628631  303\n",
      "5       0.610909  168\n",
      "           abs_yes     \n",
      "              mean  sum\n",
      "freetime               \n",
      "1         0.672131   41\n",
      "2         0.656250  105\n",
      "3         0.642298  246\n",
      "4         0.642857  180\n",
      "5         0.628571   66\n",
      "        abs_yes     \n",
      "           mean  sum\n",
      "goout               \n",
      "1      0.521739   36\n",
      "2      0.605042  144\n",
      "3      0.644654  205\n",
      "4      0.703349  147\n",
      "5      0.683871  106\n",
      "       abs_yes     \n",
      "          mean  sum\n",
      "Dalc               \n",
      "1     0.632565  439\n",
      "2     0.624309  113\n",
      "3     0.750000   48\n",
      "4     0.692308   18\n",
      "5     0.833333   20\n",
      "       abs_yes     \n",
      "          mean  sum\n",
      "Walc               \n",
      "1     0.585302  223\n",
      "2     0.626126  139\n",
      "3     0.680628  130\n",
      "4     0.744000   93\n",
      "5     0.757143   53\n",
      "         abs_yes     \n",
      "            mean  sum\n",
      "health               \n",
      "1       0.645669   82\n",
      "2       0.649573   76\n",
      "3       0.673267  136\n",
      "4       0.642424  106\n",
      "5       0.629630  238\n",
      "     abs_yes     \n",
      "        mean  sum\n",
      "G1               \n",
      "0   1.000000    1\n",
      "3   1.000000    1\n",
      "4   0.333333    1\n",
      "5   0.500000    6\n",
      "6   0.566667   17\n",
      "7   0.626866   42\n",
      "8   0.666667   54\n",
      "9   0.761364   67\n",
      "10  0.711268  101\n",
      "11  0.661017   78\n",
      "12  0.672566   76\n",
      "13  0.555556   55\n",
      "14  0.569892   53\n",
      "15  0.736842   42\n",
      "16  0.604651   26\n",
      "17  0.391304    9\n",
      "18  0.500000    7\n",
      "19  0.500000    2\n",
      "     abs_yes    \n",
      "        mean sum\n",
      "G2              \n",
      "0   0.000000   0\n",
      "4   0.000000   0\n",
      "5   0.647059  11\n",
      "6   0.666667  12\n",
      "7   0.657143  23\n",
      "8   0.720588  49\n",
      "9   0.761062  86\n",
      "10  0.645161  80\n",
      "11  0.746154  97\n",
      "12  0.635593  75\n",
      "13  0.625000  70\n",
      "14  0.626667  47\n",
      "15  0.652174  45\n",
      "16  0.583333  21\n",
      "17  0.400000  10\n",
      "18  0.375000   9\n",
      "19  0.750000   3\n",
      "     abs_yes     \n",
      "        mean  sum\n",
      "G3               \n",
      "0   0.000000    0\n",
      "1   0.000000    0\n",
      "5   1.000000    8\n",
      "6   0.937500   15\n",
      "7   0.842105   16\n",
      "8   0.800000   48\n",
      "9   0.762712   45\n",
      "10  0.710345  103\n",
      "11  0.758865  107\n",
      "12  0.650000   65\n",
      "13  0.600000   63\n",
      "14  0.678161   59\n",
      "15  0.587500   47\n",
      "16  0.551020   27\n",
      "17  0.558824   19\n",
      "18  0.440000   11\n",
      "19  0.571429    4\n",
      "20  1.000000    1\n"
     ]
    }
   ],
   "source": [
    "for feature in stu.columns:\n",
    "    if feature != 'abs_yes' and feature != 'absences':\n",
    "        print(stu.groupby(feature).agg({'abs_yes': ['mean', 'sum']}))"
   ]
  },
  {
   "cell_type": "code",
   "execution_count": 19,
   "metadata": {},
   "outputs": [],
   "source": [
    "stu = stu.drop(columns=['abs_yes'])"
   ]
  },
  {
   "cell_type": "markdown",
   "metadata": {},
   "source": [
    "# Feature Selection\n",
    "## Numerical Features"
   ]
  },
  {
   "cell_type": "markdown",
   "metadata": {},
   "source": [
    "## Correlation matrix (heatmap style)"
   ]
  },
  {
   "cell_type": "code",
   "execution_count": 20,
   "metadata": {},
   "outputs": [
    {
     "data": {
      "image/png": "[encoded data removed]",
      "text/plain": [
       "<Figure size 864x648 with 2 Axes>"
      ]
     },
     "metadata": {
      "needs_background": "light"
     },
     "output_type": "display_data"
    }
   ],
   "source": [
    "corrmat = stu.corr()\n",
    "f, ax = plt.subplots(figsize=(12, 9))\n",
    "sns.heatmap(corrmat, vmax=1, square=True);"
   ]
  },
  {
   "cell_type": "markdown",
   "metadata": {},
   "source": [
    "## Observation: \n",
    "* Grades G1,G2,G3 are highly correlated\n",
    "* Alcohol consumption 'Dalc' and 'Walc' are correlated."
   ]
  },
  {
   "cell_type": "markdown",
   "metadata": {},
   "source": [
    "## 'absences' correlation matrix (zoomed heatmap style)\n",
    "### Top 10 numerical feature that are correlated with absences"
   ]
  },
  {
   "cell_type": "code",
   "execution_count": 332,
   "metadata": {},
   "outputs": [
    {
     "data": {
      "image/png": "[encoded data removed]",
      "text/plain": [
       "<Figure size 432x288 with 2 Axes>"
      ]
     },
     "metadata": {},
     "output_type": "display_data"
    }
   ],
   "source": [
    "k = 10 #number of variables for heatmap\n",
    "cols = corrmat.nlargest(k, 'absences')['absences'].index\n",
    "cm = np.corrcoef(stu[cols].values.T)\n",
    "sns.set(font_scale=1.25)\n",
    "hm = sns.heatmap(cm, cbar=True, annot=True, square=True, fmt='.2f', annot_kws={'size': 10}, yticklabels=cols.values, xticklabels=cols.values)\n",
    "plt.show()"
   ]
  },
  {
   "cell_type": "markdown",
   "metadata": {},
   "source": [
    "## Observation\n",
    "### Expected to see some corellation with absences and other numeric feature. However not seeing much correction\n",
    "* From the above matrix, we see 'Walc' and 'Dalc' are strongly correlated variables. \n",
    "* Also we see 'Medu' and 'Fedu' are correlated variables."
   ]
  },
  {
   "cell_type": "markdown",
   "metadata": {},
   "source": [
    "# Feature Selection\n",
    "## Categorical Features"
   ]
  },
  {
   "cell_type": "code",
   "execution_count": 22,
   "metadata": {},
   "outputs": [],
   "source": [
    "categorical_features = np.setdiff1d(stu.columns,corrmat.columns)"
   ]
  },
  {
   "cell_type": "markdown",
   "metadata": {},
   "source": [
    "## Box Plots with Categorical features"
   ]
  },
  {
   "cell_type": "code",
   "execution_count": 23,
   "metadata": {},
   "outputs": [
    {
     "data": {
      "image/png": "[encoded data removed]",
      "text/plain": [
       "<Figure size 576x432 with 1 Axes>"
      ]
     },
     "metadata": {
      "needs_background": "light"
     },
     "output_type": "display_data"
    },
    {
     "data": {
      "image/png": "[encoded data removed]",
      "text/plain": [
       "<Figure size 576x432 with 1 Axes>"
      ]
     },
     "metadata": {
      "needs_background": "light"
     },
     "output_type": "display_data"
    },
    {
     "data": {
      "image/png": "[encoded data removed]",
      "text/plain": [
       "<Figure size 576x432 with 1 Axes>"
      ]
     },
     "metadata": {
      "needs_background": "light"
     },
     "output_type": "display_data"
    },
    {
     "data": {
      "image/png": "[encoded data removed]",
      "text/plain": [
       "<Figure size 576x432 with 1 Axes>"
      ]
     },
     "metadata": {
      "needs_background": "light"
     },
     "output_type": "display_data"
    },
    {
     "data": {
      "image/png": "[encoded data removed]",
      "text/plain": [
       "<Figure size 576x432 with 1 Axes>"
      ]
     },
     "metadata": {
      "needs_background": "light"
     },
     "output_type": "display_data"
    },
    {
     "data": {
      "image/png": "[encoded data removed]",
      "text/plain": [
       "<Figure size 576x432 with 1 Axes>"
      ]
     },
     "metadata": {
      "needs_background": "light"
     },
     "output_type": "display_data"
    },
    {
     "data": {
      "image/png": "[encoded data removed]",
      "text/plain": [
       "<Figure size 576x432 with 1 Axes>"
      ]
     },
     "metadata": {
      "needs_background": "light"
     },
     "output_type": "display_data"
    },
    {
     "data": {
      "image/png": "[encoded data removed]",
      "text/plain": [
       "<Figure size 576x432 with 1 Axes>"
      ]
     },
     "metadata": {
      "needs_background": "light"
     },
     "output_type": "display_data"
    },
    {
     "data": {
      "image/png": "[encoded data removed]",
      "text/plain": [
       "<Figure size 576x432 with 1 Axes>"
      ]
     },
     "metadata": {
      "needs_background": "light"
     },
     "output_type": "display_data"
    },
    {
     "data": {
      "image/png": "[encoded data removed]",
      "text/plain": [
       "<Figure size 576x432 with 1 Axes>"
      ]
     },
     "metadata": {
      "needs_background": "light"
     },
     "output_type": "display_data"
    },
    {
     "data": {
      "image/png": "[encoded data removed]",
      "text/plain": [
       "<Figure size 576x432 with 1 Axes>"
      ]
     },
     "metadata": {
      "needs_background": "light"
     },
     "output_type": "display_data"
    },
    {
     "data": {
      "image/png": "[encoded data removed]",
      "text/plain": [
       "<Figure size 576x432 with 1 Axes>"
      ]
     },
     "metadata": {
      "needs_background": "light"
     },
     "output_type": "display_data"
    },
    {
     "data": {
      "image/png": "[encoded data removed]",
      "text/plain": [
       "<Figure size 576x432 with 1 Axes>"
      ]
     },
     "metadata": {
      "needs_background": "light"
     },
     "output_type": "display_data"
    },
    {
     "data": {
      "image/png": "[encoded data removed]",
      "text/plain": [
       "<Figure size 576x432 with 1 Axes>"
      ]
     },
     "metadata": {
      "needs_background": "light"
     },
     "output_type": "display_data"
    },
    {
     "data": {
      "image/png": "[encoded data removed]",
      "text/plain": [
       "<Figure size 576x432 with 1 Axes>"
      ]
     },
     "metadata": {
      "needs_background": "light"
     },
     "output_type": "display_data"
    },
    {
     "data": {
      "image/png": "[encoded data removed]",
      "text/plain": [
       "<Figure size 576x432 with 1 Axes>"
      ]
     },
     "metadata": {
      "needs_background": "light"
     },
     "output_type": "display_data"
    },
    {
     "data": {
      "image/png": "[encoded data removed]",
      "text/plain": [
       "<Figure size 576x432 with 1 Axes>"
      ]
     },
     "metadata": {
      "needs_background": "light"
     },
     "output_type": "display_data"
    }
   ],
   "source": [
    "for feature in categorical_features:\n",
    "        data = pd.concat([stu['absences'], stu[feature]], axis=1)\n",
    "        f, ax = plt.subplots(figsize=(8,6))\n",
    "        fig = sns.boxplot(x=feature, y='absences', data=data)\n",
    "        fig.axis(ymin=0, ymax=20)"
   ]
  },
  {
   "cell_type": "markdown",
   "metadata": {},
   "source": [
    "### Observation:\n",
    "* same with categorical features as well. No much interesting relationships found. \n",
    "* From the above box plots, we see 'Mjob', 'Pstatus', 'guardian', 'higher', 'nursery', 'paid', 'reason', 'romantic' have some relation with absences. "
   ]
  },
  {
   "cell_type": "code",
   "execution_count": 28,
   "metadata": {},
   "outputs": [],
   "source": [
    "X = stu.drop(columns=['absences'])\n",
    "y = stu['absences']"
   ]
  },
  {
   "cell_type": "code",
   "execution_count": 29,
   "metadata": {},
   "outputs": [],
   "source": [
    "# One hot encoding\n",
    "X = pd.get_dummies(X)\n",
    "X = X.drop(columns = ['school_MS', 'sex_M', 'address_U', 'famsize_LE3', 'Pstatus_T', 'Mjob_other', 'Fjob_other', 'reason_other', 'guardian_other', 'schoolsup_yes', 'paid_yes', 'activities_yes', 'nursery_yes', 'higher_yes', 'internet_yes', 'romantic_yes' ])"
   ]
  },
  {
   "cell_type": "code",
   "execution_count": 30,
   "metadata": {},
   "outputs": [],
   "source": [
    "X_train, X_test, y_train, y_test = train_test_split(X, y, test_size=0.3, random_state=125)"
   ]
  },
  {
   "cell_type": "code",
   "execution_count": 31,
   "metadata": {},
   "outputs": [
    {
     "data": {
      "text/plain": [
       "Index(['age', 'Medu', 'Fedu', 'traveltime', 'studytime', 'failures', 'famrel',\n",
       "       'freetime', 'goout', 'Dalc', 'Walc', 'health', 'G1', 'G2', 'G3',\n",
       "       'school_GP', 'sex_F', 'address_R', 'famsize_GT3', 'Pstatus_A',\n",
       "       'Mjob_at_home', 'Mjob_health', 'Mjob_services', 'Mjob_teacher',\n",
       "       'Fjob_at_home', 'Fjob_health', 'Fjob_services', 'Fjob_teacher',\n",
       "       'reason_course', 'reason_home', 'reason_reputation', 'guardian_father',\n",
       "       'guardian_mother', 'schoolsup_no', 'famsup_no', 'famsup_yes', 'paid_no',\n",
       "       'activities_no', 'nursery_no', 'higher_no', 'internet_no',\n",
       "       'romantic_no'],\n",
       "      dtype='object')"
      ]
     },
     "execution_count": 31,
     "metadata": {},
     "output_type": "execute_result"
    }
   ],
   "source": [
    "X_train.columns"
   ]
  },
  {
   "cell_type": "markdown",
   "metadata": {},
   "source": [
    "## Modeling \n",
    "* Mean squared error is used as Evaluation metrics for model selection"
   ]
  },
  {
   "cell_type": "markdown",
   "metadata": {},
   "source": [
    "## ElasticNet Regression\n",
    "ElasticNet is a regularized regression method that linearly combines the L1 and L2 penalties of the lasso and ridge methods."
   ]
  },
  {
   "cell_type": "code",
   "execution_count": 36,
   "metadata": {},
   "outputs": [],
   "source": [
    "elasticNet_model = ElasticNet(random_state=0)"
   ]
  },
  {
   "cell_type": "markdown",
   "metadata": {},
   "source": [
    "#### Hyperparameter tuning"
   ]
  },
  {
   "cell_type": "code",
   "execution_count": 37,
   "metadata": {},
   "outputs": [],
   "source": [
    "search_space = [{'elasticNet_model': [elasticNet_model],\n",
    "                    'elasticNet_model__max_iter': [1, 5, 10, 100, 1000],\n",
    "                    'elasticNet_model__alpha': [0.0001, 0.001, 0.01, 0.1, 1, 10, 100],\n",
    "                    'elasticNet_model__l1_ratio': np.arange(0.0, 1.0, 0.1)}]"
   ]
  },
  {
   "cell_type": "code",
   "execution_count": 38,
   "metadata": {},
   "outputs": [],
   "source": [
    "pipe0 = Pipeline(steps=[('elasticNet_model', elasticNet_model)])"
   ]
  },
  {
   "cell_type": "code",
   "execution_count": 39,
   "metadata": {},
   "outputs": [],
   "source": [
    "elasticNet_GSCV = GridSearchCV(pipe0, search_space, cv=3, verbose=2, n_jobs = -1)"
   ]
  },
  {
   "cell_type": "code",
   "execution_count": 40,
   "metadata": {},
   "outputs": [
    {
     "name": "stdout",
     "output_type": "stream",
     "text": [
      "Fitting 3 folds for each of 350 candidates, totalling 1050 fits\n"
     ]
    },
    {
     "name": "stderr",
     "output_type": "stream",
     "text": [
      "[Parallel(n_jobs=-1)]: Using backend LokyBackend with 12 concurrent workers.\n",
      "[Parallel(n_jobs=-1)]: Done  17 tasks      | elapsed:    3.8s\n",
      "[Parallel(n_jobs=-1)]: Done 360 tasks      | elapsed:    4.6s\n",
      "[Parallel(n_jobs=-1)]: Done 1050 out of 1050 | elapsed:    5.4s finished\n"
     ]
    }
   ],
   "source": [
    "best_model_elasticNet = elasticNet_GSCV.fit(X_train, y_train)"
   ]
  },
  {
   "cell_type": "code",
   "execution_count": 43,
   "metadata": {},
   "outputs": [
    {
     "name": "stdout",
     "output_type": "stream",
     "text": [
      "ElasticNet(alpha=0.1, copy_X=True, fit_intercept=True, l1_ratio=0.9,\n",
      "           max_iter=100, normalize=False, positive=False, precompute=False,\n",
      "           random_state=0, selection='cyclic', tol=0.0001, warm_start=False)\n"
     ]
    }
   ],
   "source": [
    "print(best_model_elasticNet.best_estimator_.get_params()['elasticNet_model'])"
   ]
  },
  {
   "cell_type": "code",
   "execution_count": 44,
   "metadata": {},
   "outputs": [],
   "source": [
    "y_pred_best_model_elasticNet = best_model_elasticNet.predict(X_test)"
   ]
  },
  {
   "cell_type": "code",
   "execution_count": 45,
   "metadata": {},
   "outputs": [],
   "source": [
    "mse_elasticNetReg = metrics.mean_squared_error(y_test,y_pred_best_model_elasticNet)"
   ]
  },
  {
   "cell_type": "code",
   "execution_count": 47,
   "metadata": {},
   "outputs": [
    {
     "name": "stdout",
     "output_type": "stream",
     "text": [
      "16.25376925255867\n"
     ]
    }
   ],
   "source": [
    "print(mse_elasticNetReg)"
   ]
  },
  {
   "cell_type": "markdown",
   "metadata": {},
   "source": [
    "## Observation:\n",
    "* Mean Square Error is too high."
   ]
  },
  {
   "cell_type": "markdown",
   "metadata": {},
   "source": [
    "## RandomForest Regression\n",
    "As ElasticNet regression did not go well. Trying Random Forest Regression uses ensemble learning method for regression trees."
   ]
  },
  {
   "cell_type": "code",
   "execution_count": 51,
   "metadata": {},
   "outputs": [],
   "source": [
    "RFReg = RandomForestRegressor(random_state=0)"
   ]
  },
  {
   "cell_type": "markdown",
   "metadata": {},
   "source": [
    "#### Hyperparameter tuning"
   ]
  },
  {
   "cell_type": "code",
   "execution_count": 52,
   "metadata": {},
   "outputs": [],
   "source": [
    "# Number of trees in random forest\n",
    "n_estimators = [100, 200, 300, 500, 800, 1000, 1800]\n",
    "# Number of features to consider at every split\n",
    "max_features = ['auto', 'sqrt']\n",
    "# Minimum number of samples required to split a node\n",
    "min_samples_split = [2,4,6]\n",
    "# Minimum number of samples required at each leaf node\n",
    "min_samples_leaf = [1,2,3]\n",
    "# Method of selecting samples for training each tree\n",
    "bootstrap = [True, False]"
   ]
  },
  {
   "cell_type": "code",
   "execution_count": 53,
   "metadata": {},
   "outputs": [],
   "source": [
    "search_space = [{'RFReg': [RFReg],\n",
    "                    'RFReg__n_estimators': n_estimators,\n",
    "                    'RFReg__max_features': max_features,\n",
    "                    'RFReg__min_samples_split': min_samples_split,\n",
    "                    'RFReg__min_samples_leaf': min_samples_leaf,\n",
    "                    'RFReg__bootstrap': bootstrap}]"
   ]
  },
  {
   "cell_type": "code",
   "execution_count": 54,
   "metadata": {},
   "outputs": [],
   "source": [
    "pipe1 = Pipeline(steps=[('RFReg', RFReg)])"
   ]
  },
  {
   "cell_type": "code",
   "execution_count": 55,
   "metadata": {},
   "outputs": [],
   "source": [
    "RF_GSCV = GridSearchCV(pipe1, search_space, cv=3, verbose=2, n_jobs = -1)"
   ]
  },
  {
   "cell_type": "code",
   "execution_count": 56,
   "metadata": {},
   "outputs": [
    {
     "name": "stdout",
     "output_type": "stream",
     "text": [
      "Fitting 3 folds for each of 252 candidates, totalling 756 fits\n"
     ]
    },
    {
     "name": "stderr",
     "output_type": "stream",
     "text": [
      "[Parallel(n_jobs=-1)]: Using backend LokyBackend with 12 concurrent workers.\n",
      "[Parallel(n_jobs=-1)]: Done  17 tasks      | elapsed:   12.4s\n",
      "[Parallel(n_jobs=-1)]: Done 138 tasks      | elapsed:  1.3min\n",
      "[Parallel(n_jobs=-1)]: Done 341 tasks      | elapsed:  2.5min\n",
      "[Parallel(n_jobs=-1)]: Done 624 tasks      | elapsed:  5.1min\n",
      "[Parallel(n_jobs=-1)]: Done 756 out of 756 | elapsed:  5.8min finished\n"
     ]
    }
   ],
   "source": [
    "best_model_RF = RF_GSCV.fit(X_train, y_train)"
   ]
  },
  {
   "cell_type": "code",
   "execution_count": 59,
   "metadata": {},
   "outputs": [
    {
     "name": "stdout",
     "output_type": "stream",
     "text": [
      "RandomForestRegressor(bootstrap=True, ccp_alpha=0.0, criterion='mse',\n",
      "                      max_depth=None, max_features='auto', max_leaf_nodes=None,\n",
      "                      max_samples=None, min_impurity_decrease=0.0,\n",
      "                      min_impurity_split=None, min_samples_leaf=3,\n",
      "                      min_samples_split=2, min_weight_fraction_leaf=0.0,\n",
      "                      n_estimators=200, n_jobs=None, oob_score=False,\n",
      "                      random_state=0, verbose=0, warm_start=False)\n"
     ]
    }
   ],
   "source": [
    "print(best_model_RF.best_estimator_.get_params()['RFReg'])"
   ]
  },
  {
   "cell_type": "code",
   "execution_count": 60,
   "metadata": {},
   "outputs": [],
   "source": [
    "y_pred_best_model_RF = best_model_RF.predict(X_test)"
   ]
  },
  {
   "cell_type": "code",
   "execution_count": 61,
   "metadata": {},
   "outputs": [],
   "source": [
    "rmse_RFBReg = metrics.mean_squared_error(y_test,y_pred_best_model_RF)"
   ]
  },
  {
   "cell_type": "code",
   "execution_count": 62,
   "metadata": {},
   "outputs": [
    {
     "name": "stdout",
     "output_type": "stream",
     "text": [
      "14.761577975359492\n"
     ]
    }
   ],
   "source": [
    "print(rmse_RFBReg)"
   ]
  },
  {
   "cell_type": "markdown",
   "metadata": {},
   "source": [
    "## Observation:\n",
    "* The result is not as exepceted\n",
    "* However better that ElasticNet"
   ]
  },
  {
   "cell_type": "markdown",
   "metadata": {},
   "source": [
    "## XGBRegressor\n"
   ]
  },
  {
   "cell_type": "code",
   "execution_count": 64,
   "metadata": {},
   "outputs": [],
   "source": [
    "xgb_model = XGBRegressor(random_state=0)"
   ]
  },
  {
   "cell_type": "markdown",
   "metadata": {},
   "source": [
    "#### Hyper Parameter tuning"
   ]
  },
  {
   "cell_type": "code",
   "execution_count": 65,
   "metadata": {},
   "outputs": [],
   "source": [
    "search_space = [{'xgb_model': [xgb_model],\n",
    "                    'xgb_model__learning_rate': [0.01, 0.1, 0.2, 0.3],\n",
    "                    'xgb_model__max_depth': [3, 5, 7, 10],\n",
    "                    'xgb_model__min_child_weight': [1, 3, 5],\n",
    "                    'xgb_model__colsample_bytree': [0.5, 0.7],\n",
    "                    'xgb_model__objective': ['reg:squarederror']}]"
   ]
  },
  {
   "cell_type": "code",
   "execution_count": 66,
   "metadata": {},
   "outputs": [],
   "source": [
    "pipe2 = Pipeline(steps=[('xgb_model', xgb_model)])"
   ]
  },
  {
   "cell_type": "code",
   "execution_count": 67,
   "metadata": {},
   "outputs": [],
   "source": [
    "XGB_GSCV = GridSearchCV(pipe2, search_space, cv=3, verbose=2, n_jobs = -1)"
   ]
  },
  {
   "cell_type": "code",
   "execution_count": 68,
   "metadata": {},
   "outputs": [
    {
     "name": "stdout",
     "output_type": "stream",
     "text": [
      "Fitting 3 folds for each of 96 candidates, totalling 288 fits\n"
     ]
    },
    {
     "name": "stderr",
     "output_type": "stream",
     "text": [
      "[Parallel(n_jobs=-1)]: Using backend LokyBackend with 12 concurrent workers.\n",
      "[Parallel(n_jobs=-1)]: Done  17 tasks      | elapsed:    4.9s\n",
      "[Parallel(n_jobs=-1)]: Done 138 tasks      | elapsed:   14.0s\n",
      "[Parallel(n_jobs=-1)]: Done 288 out of 288 | elapsed:   26.7s finished\n"
     ]
    }
   ],
   "source": [
    "best_model_XGB = XGB_GSCV.fit(X_train, y_train)"
   ]
  },
  {
   "cell_type": "code",
   "execution_count": 72,
   "metadata": {},
   "outputs": [
    {
     "name": "stdout",
     "output_type": "stream",
     "text": [
      "XGBRegressor(base_score=0.5, booster='gbtree', colsample_bylevel=1,\n",
      "             colsample_bynode=1, colsample_bytree=0.5, gamma=0, gpu_id=-1,\n",
      "             importance_type='gain', interaction_constraints='',\n",
      "             learning_rate=0.1, max_delta_step=0, max_depth=3,\n",
      "             min_child_weight=3, missing=nan, monotone_constraints='()',\n",
      "             n_estimators=100, n_jobs=12, num_parallel_tree=1,\n",
      "             objective='reg:squarederror', random_state=0, reg_alpha=0,\n",
      "             reg_lambda=1, scale_pos_weight=1, subsample=1, tree_method='exact',\n",
      "             validate_parameters=1, verbosity=None)\n"
     ]
    }
   ],
   "source": [
    "print(best_model_XGB.best_estimator_.get_params()['xgb_model'])"
   ]
  },
  {
   "cell_type": "code",
   "execution_count": 73,
   "metadata": {},
   "outputs": [],
   "source": [
    "y_pred_best_model_XGB = best_model_XGB.predict(X_test)"
   ]
  },
  {
   "cell_type": "code",
   "execution_count": 74,
   "metadata": {},
   "outputs": [],
   "source": [
    "rmse_XGBReg = metrics.mean_squared_error(y_test,y_pred_best_model_XGB)"
   ]
  },
  {
   "cell_type": "code",
   "execution_count": 75,
   "metadata": {},
   "outputs": [
    {
     "name": "stdout",
     "output_type": "stream",
     "text": [
      "14.74519952006814\n"
     ]
    }
   ],
   "source": [
    "print(rmse_XGBReg )"
   ]
  },
  {
   "cell_type": "markdown",
   "metadata": {},
   "source": [
    "## Observation:\n",
    "* The result is not as exepceted\n",
    "* the result is similar to RandomForestRegressor"
   ]
  },
  {
   "cell_type": "markdown",
   "metadata": {},
   "source": [
    "# Next steps:\n",
    "Given more time, the following steps can be tried.\n",
    "* Feature transformations\n",
    "* Enhanced Hyperparameter tuning\n",
    "* Trying other models"
   ]
  },
  {
   "cell_type": "markdown",
   "metadata": {},
   "source": [
    "## Serving the Machine Learning Model as Rest API"
   ]
  },
  {
   "cell_type": "markdown",
   "metadata": {},
   "source": [
    "* Serialie the finalized model into pickle file.\n",
    "* Build a web API app using a Flask framework. This app will use the trained ML pickle file on new data points in real-time.\n",
    "* Build the docker image Flask application.\n",
    "* Upload the container onto Google Container Registry (GCR).\n",
    "* Create a cluster on the Google Kubernetes Engine(GKE).\n",
    "* Deploy the container image on the created cluseter and expose the app as the REST API to the public.\n"
   ]
  },
  {
   "cell_type": "code",
   "execution_count": null,
   "metadata": {},
   "outputs": [],
   "source": []
  },
  {
   "cell_type": "code",
   "execution_count": null,
   "metadata": {},
   "outputs": [],
   "source": []
  }
 ],
 "metadata": {
  "kernelspec": {
   "display_name": "Python 3",
   "language": "python",
   "name": "python3"
  },
  "language_info": {
   "codemirror_mode": {
    "name": "ipython",
    "version": 3
   },
   "file_extension": ".py",
   "mimetype": "text/x-python",
   "name": "python",
   "nbconvert_exporter": "python",
   "pygments_lexer": "ipython3",
   "version": "3.7.4"
  }
 },
 "nbformat": 4,
 "nbformat_minor": 2
}
